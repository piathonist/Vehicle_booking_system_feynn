{
  "cells": [
    {
      "cell_type": "code",
      "execution_count": null,
      "id": "519d02f1",
      "metadata": {
        "id": "519d02f1"
      },
      "outputs": [],
      "source": [
        "import pandas as pd\n",
        "import numpy as np\n",
        "import matplotlib.pyplot as plt\n",
        "import seaborn as sns "
      ]
    },
    {
      "cell_type": "code",
      "execution_count": null,
      "id": "7be5f0dd",
      "metadata": {
        "id": "7be5f0dd"
      },
      "outputs": [],
      "source": [
        "df = pd.read_csv(\"/content/drive/MyDrive/cars_dataset.csv.xls\")"
      ]
    },
    {
      "cell_type": "code",
      "execution_count": null,
      "id": "3c92697b",
      "metadata": {
        "colab": {
          "base_uri": "https://localhost:8080/",
          "height": 206
        },
        "id": "3c92697b",
        "outputId": "0df9e727-b4d3-43f5-8bf1-00318c46d2cc"
      },
      "outputs": [
        {
          "output_type": "execute_result",
          "data": {
            "text/plain": [
              "                                               Name     Location  Year  \\\n",
              "294   AUDI A7 Sportback 3.0TDI quattro S-Tronic 204       Madrid  2013   \n",
              "65   MERCEDES-BENZ Clase C C-CLASS 200 D AVANTGARDE       Murcia  2020   \n",
              "183         BMW Serie 1 118D 150 STEPTRONIC m sport       Málaga  2020   \n",
              "145   AUDI A3 Sportback 2.0TDI S Line Edition 110kW    Barcelona  2016   \n",
              "106                   MITSUBISHI ASX 180DI-D Motion  Ciudad Real  2012   \n",
              "\n",
              "    Combustible  Kilometers Transmission  Power [CV]  Price [€]  \\\n",
              "294      Diésel     119.000   Automático       204.0     28.000   \n",
              "65       Diésel      12.300   Automático       160.0     35.500   \n",
              "183      Diésel      12.194   Automático       140.0     29.937   \n",
              "145      Diésel      86.000       Manual       150.0     18.000   \n",
              "106      Diésel     108.185       Manual       116.0     10.990   \n",
              "\n",
              "       Financed Price                        Dealer Dealer Rating (over 5)  \n",
              "294  Con financiación  GESTION DIRECTA DE VEHICULOS                    4,5  \n",
              "65   Con financiación                             0                      0  \n",
              "183  Con financiación                             0                      0  \n",
              "145  Con financiación                  ÉLITE MATARÓ                    0,0  \n",
              "106  Sin financiación                             0                      0  "
            ],
            "text/html": [
              "\n",
              "  <div id=\"df-218e72f8-1c0a-4c84-b301-1724adf60512\">\n",
              "    <div class=\"colab-df-container\">\n",
              "      <div>\n",
              "<style scoped>\n",
              "    .dataframe tbody tr th:only-of-type {\n",
              "        vertical-align: middle;\n",
              "    }\n",
              "\n",
              "    .dataframe tbody tr th {\n",
              "        vertical-align: top;\n",
              "    }\n",
              "\n",
              "    .dataframe thead th {\n",
              "        text-align: right;\n",
              "    }\n",
              "</style>\n",
              "<table border=\"1\" class=\"dataframe\">\n",
              "  <thead>\n",
              "    <tr style=\"text-align: right;\">\n",
              "      <th></th>\n",
              "      <th>Name</th>\n",
              "      <th>Location</th>\n",
              "      <th>Year</th>\n",
              "      <th>Combustible</th>\n",
              "      <th>Kilometers</th>\n",
              "      <th>Transmission</th>\n",
              "      <th>Power [CV]</th>\n",
              "      <th>Price [€]</th>\n",
              "      <th>Financed Price</th>\n",
              "      <th>Dealer</th>\n",
              "      <th>Dealer Rating (over 5)</th>\n",
              "    </tr>\n",
              "  </thead>\n",
              "  <tbody>\n",
              "    <tr>\n",
              "      <th>294</th>\n",
              "      <td>AUDI A7 Sportback 3.0TDI quattro S-Tronic 204</td>\n",
              "      <td>Madrid</td>\n",
              "      <td>2013</td>\n",
              "      <td>Diésel</td>\n",
              "      <td>119.000</td>\n",
              "      <td>Automático</td>\n",
              "      <td>204.0</td>\n",
              "      <td>28.000</td>\n",
              "      <td>Con financiación</td>\n",
              "      <td>GESTION DIRECTA DE VEHICULOS</td>\n",
              "      <td>4,5</td>\n",
              "    </tr>\n",
              "    <tr>\n",
              "      <th>65</th>\n",
              "      <td>MERCEDES-BENZ Clase C C-CLASS 200 D AVANTGARDE</td>\n",
              "      <td>Murcia</td>\n",
              "      <td>2020</td>\n",
              "      <td>Diésel</td>\n",
              "      <td>12.300</td>\n",
              "      <td>Automático</td>\n",
              "      <td>160.0</td>\n",
              "      <td>35.500</td>\n",
              "      <td>Con financiación</td>\n",
              "      <td>0</td>\n",
              "      <td>0</td>\n",
              "    </tr>\n",
              "    <tr>\n",
              "      <th>183</th>\n",
              "      <td>BMW Serie 1 118D 150 STEPTRONIC m sport</td>\n",
              "      <td>Málaga</td>\n",
              "      <td>2020</td>\n",
              "      <td>Diésel</td>\n",
              "      <td>12.194</td>\n",
              "      <td>Automático</td>\n",
              "      <td>140.0</td>\n",
              "      <td>29.937</td>\n",
              "      <td>Con financiación</td>\n",
              "      <td>0</td>\n",
              "      <td>0</td>\n",
              "    </tr>\n",
              "    <tr>\n",
              "      <th>145</th>\n",
              "      <td>AUDI A3 Sportback 2.0TDI S Line Edition 110kW</td>\n",
              "      <td>Barcelona</td>\n",
              "      <td>2016</td>\n",
              "      <td>Diésel</td>\n",
              "      <td>86.000</td>\n",
              "      <td>Manual</td>\n",
              "      <td>150.0</td>\n",
              "      <td>18.000</td>\n",
              "      <td>Con financiación</td>\n",
              "      <td>ÉLITE MATARÓ</td>\n",
              "      <td>0,0</td>\n",
              "    </tr>\n",
              "    <tr>\n",
              "      <th>106</th>\n",
              "      <td>MITSUBISHI ASX 180DI-D Motion</td>\n",
              "      <td>Ciudad Real</td>\n",
              "      <td>2012</td>\n",
              "      <td>Diésel</td>\n",
              "      <td>108.185</td>\n",
              "      <td>Manual</td>\n",
              "      <td>116.0</td>\n",
              "      <td>10.990</td>\n",
              "      <td>Sin financiación</td>\n",
              "      <td>0</td>\n",
              "      <td>0</td>\n",
              "    </tr>\n",
              "  </tbody>\n",
              "</table>\n",
              "</div>\n",
              "      <button class=\"colab-df-convert\" onclick=\"convertToInteractive('df-218e72f8-1c0a-4c84-b301-1724adf60512')\"\n",
              "              title=\"Convert this dataframe to an interactive table.\"\n",
              "              style=\"display:none;\">\n",
              "        \n",
              "  <svg xmlns=\"http://www.w3.org/2000/svg\" height=\"24px\"viewBox=\"0 0 24 24\"\n",
              "       width=\"24px\">\n",
              "    <path d=\"M0 0h24v24H0V0z\" fill=\"none\"/>\n",
              "    <path d=\"M18.56 5.44l.94 2.06.94-2.06 2.06-.94-2.06-.94-.94-2.06-.94 2.06-2.06.94zm-11 1L8.5 8.5l.94-2.06 2.06-.94-2.06-.94L8.5 2.5l-.94 2.06-2.06.94zm10 10l.94 2.06.94-2.06 2.06-.94-2.06-.94-.94-2.06-.94 2.06-2.06.94z\"/><path d=\"M17.41 7.96l-1.37-1.37c-.4-.4-.92-.59-1.43-.59-.52 0-1.04.2-1.43.59L10.3 9.45l-7.72 7.72c-.78.78-.78 2.05 0 2.83L4 21.41c.39.39.9.59 1.41.59.51 0 1.02-.2 1.41-.59l7.78-7.78 2.81-2.81c.8-.78.8-2.07 0-2.86zM5.41 20L4 18.59l7.72-7.72 1.47 1.35L5.41 20z\"/>\n",
              "  </svg>\n",
              "      </button>\n",
              "      \n",
              "  <style>\n",
              "    .colab-df-container {\n",
              "      display:flex;\n",
              "      flex-wrap:wrap;\n",
              "      gap: 12px;\n",
              "    }\n",
              "\n",
              "    .colab-df-convert {\n",
              "      background-color: #E8F0FE;\n",
              "      border: none;\n",
              "      border-radius: 50%;\n",
              "      cursor: pointer;\n",
              "      display: none;\n",
              "      fill: #1967D2;\n",
              "      height: 32px;\n",
              "      padding: 0 0 0 0;\n",
              "      width: 32px;\n",
              "    }\n",
              "\n",
              "    .colab-df-convert:hover {\n",
              "      background-color: #E2EBFA;\n",
              "      box-shadow: 0px 1px 2px rgba(60, 64, 67, 0.3), 0px 1px 3px 1px rgba(60, 64, 67, 0.15);\n",
              "      fill: #174EA6;\n",
              "    }\n",
              "\n",
              "    [theme=dark] .colab-df-convert {\n",
              "      background-color: #3B4455;\n",
              "      fill: #D2E3FC;\n",
              "    }\n",
              "\n",
              "    [theme=dark] .colab-df-convert:hover {\n",
              "      background-color: #434B5C;\n",
              "      box-shadow: 0px 1px 3px 1px rgba(0, 0, 0, 0.15);\n",
              "      filter: drop-shadow(0px 1px 2px rgba(0, 0, 0, 0.3));\n",
              "      fill: #FFFFFF;\n",
              "    }\n",
              "  </style>\n",
              "\n",
              "      <script>\n",
              "        const buttonEl =\n",
              "          document.querySelector('#df-218e72f8-1c0a-4c84-b301-1724adf60512 button.colab-df-convert');\n",
              "        buttonEl.style.display =\n",
              "          google.colab.kernel.accessAllowed ? 'block' : 'none';\n",
              "\n",
              "        async function convertToInteractive(key) {\n",
              "          const element = document.querySelector('#df-218e72f8-1c0a-4c84-b301-1724adf60512');\n",
              "          const dataTable =\n",
              "            await google.colab.kernel.invokeFunction('convertToInteractive',\n",
              "                                                     [key], {});\n",
              "          if (!dataTable) return;\n",
              "\n",
              "          const docLinkHtml = 'Like what you see? Visit the ' +\n",
              "            '<a target=\"_blank\" href=https://colab.research.google.com/notebooks/data_table.ipynb>data table notebook</a>'\n",
              "            + ' to learn more about interactive tables.';\n",
              "          element.innerHTML = '';\n",
              "          dataTable['output_type'] = 'display_data';\n",
              "          await google.colab.output.renderOutput(dataTable, element);\n",
              "          const docLink = document.createElement('div');\n",
              "          docLink.innerHTML = docLinkHtml;\n",
              "          element.appendChild(docLink);\n",
              "        }\n",
              "      </script>\n",
              "    </div>\n",
              "  </div>\n",
              "  "
            ]
          },
          "metadata": {},
          "execution_count": 21
        }
      ],
      "source": [
        "df=df.fillna(0)\n",
        "df.sample(5)"
      ]
    },
    {
      "cell_type": "code",
      "execution_count": null,
      "id": "9987814c",
      "metadata": {
        "colab": {
          "base_uri": "https://localhost:8080/"
        },
        "id": "9987814c",
        "outputId": "46b2b43d-d24e-48c5-9d0f-81a8063fd91d"
      },
      "outputs": [
        {
          "output_type": "stream",
          "name": "stdout",
          "text": [
            "Name                      0\n",
            "Location                  0\n",
            "Year                      0\n",
            "Combustible               0\n",
            "Kilometers                0\n",
            "Transmission              0\n",
            "Power [CV]                0\n",
            "Price [€]                 0\n",
            "Financed Price            0\n",
            "Dealer                    0\n",
            "Dealer Rating (over 5)    0\n",
            "dtype: int64\n"
          ]
        }
      ],
      "source": [
        "print(df.isnull().sum())"
      ]
    },
    {
      "cell_type": "code",
      "execution_count": null,
      "id": "2eb57468",
      "metadata": {
        "colab": {
          "base_uri": "https://localhost:8080/"
        },
        "id": "2eb57468",
        "outputId": "c0cf287e-6941-42b3-9b40-efcd2124efbf"
      },
      "outputs": [
        {
          "output_type": "stream",
          "name": "stdout",
          "text": [
            "<class 'pandas.core.frame.DataFrame'>\n",
            "RangeIndex: 320 entries, 0 to 319\n",
            "Data columns (total 11 columns):\n",
            " #   Column                  Non-Null Count  Dtype  \n",
            "---  ------                  --------------  -----  \n",
            " 0   Name                    320 non-null    object \n",
            " 1   Location                320 non-null    object \n",
            " 2   Year                    320 non-null    int64  \n",
            " 3   Combustible             320 non-null    object \n",
            " 4   Kilometers              320 non-null    float64\n",
            " 5   Transmission            320 non-null    object \n",
            " 6   Power [CV]              320 non-null    float64\n",
            " 7   Price [€]               320 non-null    float64\n",
            " 8   Financed Price          320 non-null    object \n",
            " 9   Dealer                  320 non-null    object \n",
            " 10  Dealer Rating (over 5)  320 non-null    object \n",
            "dtypes: float64(3), int64(1), object(7)\n",
            "memory usage: 27.6+ KB\n"
          ]
        }
      ],
      "source": [
        "df.info()"
      ]
    },
    {
      "cell_type": "code",
      "execution_count": null,
      "id": "d299d448",
      "metadata": {
        "colab": {
          "base_uri": "https://localhost:8080/",
          "height": 300
        },
        "id": "d299d448",
        "outputId": "0b12968d-05fb-45f6-fc3c-4f105ac35efd"
      },
      "outputs": [
        {
          "output_type": "execute_result",
          "data": {
            "text/plain": [
              "              Year  Kilometers  Power [CV]   Price [€]\n",
              "count   320.000000  320.000000  320.000000  320.000000\n",
              "mean   2017.271875   67.856738  188.050000   31.935275\n",
              "std       3.706026   68.518875  124.441438   49.419175\n",
              "min    2000.000000    0.000000    0.000000    1.000000\n",
              "25%    2016.000000   15.000000  116.000000   13.900000\n",
              "50%    2018.000000   56.350000  150.000000   20.945000\n",
              "75%    2020.000000   96.175000  200.000000   32.900000\n",
              "max    2021.000000  650.000000  999.000000  665.900000"
            ],
            "text/html": [
              "\n",
              "  <div id=\"df-2efa300d-f419-46ee-9173-c693d90f5a0d\">\n",
              "    <div class=\"colab-df-container\">\n",
              "      <div>\n",
              "<style scoped>\n",
              "    .dataframe tbody tr th:only-of-type {\n",
              "        vertical-align: middle;\n",
              "    }\n",
              "\n",
              "    .dataframe tbody tr th {\n",
              "        vertical-align: top;\n",
              "    }\n",
              "\n",
              "    .dataframe thead th {\n",
              "        text-align: right;\n",
              "    }\n",
              "</style>\n",
              "<table border=\"1\" class=\"dataframe\">\n",
              "  <thead>\n",
              "    <tr style=\"text-align: right;\">\n",
              "      <th></th>\n",
              "      <th>Year</th>\n",
              "      <th>Kilometers</th>\n",
              "      <th>Power [CV]</th>\n",
              "      <th>Price [€]</th>\n",
              "    </tr>\n",
              "  </thead>\n",
              "  <tbody>\n",
              "    <tr>\n",
              "      <th>count</th>\n",
              "      <td>320.000000</td>\n",
              "      <td>320.000000</td>\n",
              "      <td>320.000000</td>\n",
              "      <td>320.000000</td>\n",
              "    </tr>\n",
              "    <tr>\n",
              "      <th>mean</th>\n",
              "      <td>2017.271875</td>\n",
              "      <td>67.856738</td>\n",
              "      <td>188.050000</td>\n",
              "      <td>31.935275</td>\n",
              "    </tr>\n",
              "    <tr>\n",
              "      <th>std</th>\n",
              "      <td>3.706026</td>\n",
              "      <td>68.518875</td>\n",
              "      <td>124.441438</td>\n",
              "      <td>49.419175</td>\n",
              "    </tr>\n",
              "    <tr>\n",
              "      <th>min</th>\n",
              "      <td>2000.000000</td>\n",
              "      <td>0.000000</td>\n",
              "      <td>0.000000</td>\n",
              "      <td>1.000000</td>\n",
              "    </tr>\n",
              "    <tr>\n",
              "      <th>25%</th>\n",
              "      <td>2016.000000</td>\n",
              "      <td>15.000000</td>\n",
              "      <td>116.000000</td>\n",
              "      <td>13.900000</td>\n",
              "    </tr>\n",
              "    <tr>\n",
              "      <th>50%</th>\n",
              "      <td>2018.000000</td>\n",
              "      <td>56.350000</td>\n",
              "      <td>150.000000</td>\n",
              "      <td>20.945000</td>\n",
              "    </tr>\n",
              "    <tr>\n",
              "      <th>75%</th>\n",
              "      <td>2020.000000</td>\n",
              "      <td>96.175000</td>\n",
              "      <td>200.000000</td>\n",
              "      <td>32.900000</td>\n",
              "    </tr>\n",
              "    <tr>\n",
              "      <th>max</th>\n",
              "      <td>2021.000000</td>\n",
              "      <td>650.000000</td>\n",
              "      <td>999.000000</td>\n",
              "      <td>665.900000</td>\n",
              "    </tr>\n",
              "  </tbody>\n",
              "</table>\n",
              "</div>\n",
              "      <button class=\"colab-df-convert\" onclick=\"convertToInteractive('df-2efa300d-f419-46ee-9173-c693d90f5a0d')\"\n",
              "              title=\"Convert this dataframe to an interactive table.\"\n",
              "              style=\"display:none;\">\n",
              "        \n",
              "  <svg xmlns=\"http://www.w3.org/2000/svg\" height=\"24px\"viewBox=\"0 0 24 24\"\n",
              "       width=\"24px\">\n",
              "    <path d=\"M0 0h24v24H0V0z\" fill=\"none\"/>\n",
              "    <path d=\"M18.56 5.44l.94 2.06.94-2.06 2.06-.94-2.06-.94-.94-2.06-.94 2.06-2.06.94zm-11 1L8.5 8.5l.94-2.06 2.06-.94-2.06-.94L8.5 2.5l-.94 2.06-2.06.94zm10 10l.94 2.06.94-2.06 2.06-.94-2.06-.94-.94-2.06-.94 2.06-2.06.94z\"/><path d=\"M17.41 7.96l-1.37-1.37c-.4-.4-.92-.59-1.43-.59-.52 0-1.04.2-1.43.59L10.3 9.45l-7.72 7.72c-.78.78-.78 2.05 0 2.83L4 21.41c.39.39.9.59 1.41.59.51 0 1.02-.2 1.41-.59l7.78-7.78 2.81-2.81c.8-.78.8-2.07 0-2.86zM5.41 20L4 18.59l7.72-7.72 1.47 1.35L5.41 20z\"/>\n",
              "  </svg>\n",
              "      </button>\n",
              "      \n",
              "  <style>\n",
              "    .colab-df-container {\n",
              "      display:flex;\n",
              "      flex-wrap:wrap;\n",
              "      gap: 12px;\n",
              "    }\n",
              "\n",
              "    .colab-df-convert {\n",
              "      background-color: #E8F0FE;\n",
              "      border: none;\n",
              "      border-radius: 50%;\n",
              "      cursor: pointer;\n",
              "      display: none;\n",
              "      fill: #1967D2;\n",
              "      height: 32px;\n",
              "      padding: 0 0 0 0;\n",
              "      width: 32px;\n",
              "    }\n",
              "\n",
              "    .colab-df-convert:hover {\n",
              "      background-color: #E2EBFA;\n",
              "      box-shadow: 0px 1px 2px rgba(60, 64, 67, 0.3), 0px 1px 3px 1px rgba(60, 64, 67, 0.15);\n",
              "      fill: #174EA6;\n",
              "    }\n",
              "\n",
              "    [theme=dark] .colab-df-convert {\n",
              "      background-color: #3B4455;\n",
              "      fill: #D2E3FC;\n",
              "    }\n",
              "\n",
              "    [theme=dark] .colab-df-convert:hover {\n",
              "      background-color: #434B5C;\n",
              "      box-shadow: 0px 1px 3px 1px rgba(0, 0, 0, 0.15);\n",
              "      filter: drop-shadow(0px 1px 2px rgba(0, 0, 0, 0.3));\n",
              "      fill: #FFFFFF;\n",
              "    }\n",
              "  </style>\n",
              "\n",
              "      <script>\n",
              "        const buttonEl =\n",
              "          document.querySelector('#df-2efa300d-f419-46ee-9173-c693d90f5a0d button.colab-df-convert');\n",
              "        buttonEl.style.display =\n",
              "          google.colab.kernel.accessAllowed ? 'block' : 'none';\n",
              "\n",
              "        async function convertToInteractive(key) {\n",
              "          const element = document.querySelector('#df-2efa300d-f419-46ee-9173-c693d90f5a0d');\n",
              "          const dataTable =\n",
              "            await google.colab.kernel.invokeFunction('convertToInteractive',\n",
              "                                                     [key], {});\n",
              "          if (!dataTable) return;\n",
              "\n",
              "          const docLinkHtml = 'Like what you see? Visit the ' +\n",
              "            '<a target=\"_blank\" href=https://colab.research.google.com/notebooks/data_table.ipynb>data table notebook</a>'\n",
              "            + ' to learn more about interactive tables.';\n",
              "          element.innerHTML = '';\n",
              "          dataTable['output_type'] = 'display_data';\n",
              "          await google.colab.output.renderOutput(dataTable, element);\n",
              "          const docLink = document.createElement('div');\n",
              "          docLink.innerHTML = docLinkHtml;\n",
              "          element.appendChild(docLink);\n",
              "        }\n",
              "      </script>\n",
              "    </div>\n",
              "  </div>\n",
              "  "
            ]
          },
          "metadata": {},
          "execution_count": 25
        }
      ],
      "source": [
        "df.describe()"
      ]
    },
    {
      "cell_type": "code",
      "execution_count": null,
      "id": "cede3a10",
      "metadata": {
        "colab": {
          "base_uri": "https://localhost:8080/",
          "height": 516
        },
        "id": "cede3a10",
        "outputId": "42cb17f5-e592-409e-a23e-80a858802560"
      },
      "outputs": [
        {
          "output_type": "error",
          "ename": "KeyError",
          "evalue": "ignored",
          "traceback": [
            "\u001b[0;31m---------------------------------------------------------------------------\u001b[0m",
            "\u001b[0;31mKeyError\u001b[0m                                  Traceback (most recent call last)",
            "\u001b[0;32m/usr/local/lib/python3.8/dist-packages/pandas/core/indexes/base.py\u001b[0m in \u001b[0;36mget_loc\u001b[0;34m(self, key, method, tolerance)\u001b[0m\n\u001b[1;32m   3360\u001b[0m             \u001b[0;32mtry\u001b[0m\u001b[0;34m:\u001b[0m\u001b[0;34m\u001b[0m\u001b[0;34m\u001b[0m\u001b[0m\n\u001b[0;32m-> 3361\u001b[0;31m                 \u001b[0;32mreturn\u001b[0m \u001b[0mself\u001b[0m\u001b[0;34m.\u001b[0m\u001b[0m_engine\u001b[0m\u001b[0;34m.\u001b[0m\u001b[0mget_loc\u001b[0m\u001b[0;34m(\u001b[0m\u001b[0mcasted_key\u001b[0m\u001b[0;34m)\u001b[0m\u001b[0;34m\u001b[0m\u001b[0;34m\u001b[0m\u001b[0m\n\u001b[0m\u001b[1;32m   3362\u001b[0m             \u001b[0;32mexcept\u001b[0m \u001b[0mKeyError\u001b[0m \u001b[0;32mas\u001b[0m \u001b[0merr\u001b[0m\u001b[0;34m:\u001b[0m\u001b[0;34m\u001b[0m\u001b[0;34m\u001b[0m\u001b[0m\n",
            "\u001b[0;32m/usr/local/lib/python3.8/dist-packages/pandas/_libs/index.pyx\u001b[0m in \u001b[0;36mpandas._libs.index.IndexEngine.get_loc\u001b[0;34m()\u001b[0m\n",
            "\u001b[0;32m/usr/local/lib/python3.8/dist-packages/pandas/_libs/index.pyx\u001b[0m in \u001b[0;36mpandas._libs.index.IndexEngine.get_loc\u001b[0;34m()\u001b[0m\n",
            "\u001b[0;32mpandas/_libs/hashtable_class_helper.pxi\u001b[0m in \u001b[0;36mpandas._libs.hashtable.PyObjectHashTable.get_item\u001b[0;34m()\u001b[0m\n",
            "\u001b[0;32mpandas/_libs/hashtable_class_helper.pxi\u001b[0m in \u001b[0;36mpandas._libs.hashtable.PyObjectHashTable.get_item\u001b[0;34m()\u001b[0m\n",
            "\u001b[0;31mKeyError\u001b[0m: 'vehicle.make'",
            "\nThe above exception was the direct cause of the following exception:\n",
            "\u001b[0;31mKeyError\u001b[0m                                  Traceback (most recent call last)",
            "\u001b[0;32m<ipython-input-26-88b0e6889367>\u001b[0m in \u001b[0;36m<module>\u001b[0;34m\u001b[0m\n\u001b[0;32m----> 1\u001b[0;31m \u001b[0mdf\u001b[0m\u001b[0;34m[\u001b[0m\u001b[0;34m'vehicle.make'\u001b[0m\u001b[0;34m]\u001b[0m\u001b[0;34m.\u001b[0m\u001b[0mvalue_counts\u001b[0m\u001b[0;34m(\u001b[0m\u001b[0;34m)\u001b[0m\u001b[0;34m\u001b[0m\u001b[0;34m\u001b[0m\u001b[0m\n\u001b[0m",
            "\u001b[0;32m/usr/local/lib/python3.8/dist-packages/pandas/core/frame.py\u001b[0m in \u001b[0;36m__getitem__\u001b[0;34m(self, key)\u001b[0m\n\u001b[1;32m   3456\u001b[0m             \u001b[0;32mif\u001b[0m \u001b[0mself\u001b[0m\u001b[0;34m.\u001b[0m\u001b[0mcolumns\u001b[0m\u001b[0;34m.\u001b[0m\u001b[0mnlevels\u001b[0m \u001b[0;34m>\u001b[0m \u001b[0;36m1\u001b[0m\u001b[0;34m:\u001b[0m\u001b[0;34m\u001b[0m\u001b[0;34m\u001b[0m\u001b[0m\n\u001b[1;32m   3457\u001b[0m                 \u001b[0;32mreturn\u001b[0m \u001b[0mself\u001b[0m\u001b[0;34m.\u001b[0m\u001b[0m_getitem_multilevel\u001b[0m\u001b[0;34m(\u001b[0m\u001b[0mkey\u001b[0m\u001b[0;34m)\u001b[0m\u001b[0;34m\u001b[0m\u001b[0;34m\u001b[0m\u001b[0m\n\u001b[0;32m-> 3458\u001b[0;31m             \u001b[0mindexer\u001b[0m \u001b[0;34m=\u001b[0m \u001b[0mself\u001b[0m\u001b[0;34m.\u001b[0m\u001b[0mcolumns\u001b[0m\u001b[0;34m.\u001b[0m\u001b[0mget_loc\u001b[0m\u001b[0;34m(\u001b[0m\u001b[0mkey\u001b[0m\u001b[0;34m)\u001b[0m\u001b[0;34m\u001b[0m\u001b[0;34m\u001b[0m\u001b[0m\n\u001b[0m\u001b[1;32m   3459\u001b[0m             \u001b[0;32mif\u001b[0m \u001b[0mis_integer\u001b[0m\u001b[0;34m(\u001b[0m\u001b[0mindexer\u001b[0m\u001b[0;34m)\u001b[0m\u001b[0;34m:\u001b[0m\u001b[0;34m\u001b[0m\u001b[0;34m\u001b[0m\u001b[0m\n\u001b[1;32m   3460\u001b[0m                 \u001b[0mindexer\u001b[0m \u001b[0;34m=\u001b[0m \u001b[0;34m[\u001b[0m\u001b[0mindexer\u001b[0m\u001b[0;34m]\u001b[0m\u001b[0;34m\u001b[0m\u001b[0;34m\u001b[0m\u001b[0m\n",
            "\u001b[0;32m/usr/local/lib/python3.8/dist-packages/pandas/core/indexes/base.py\u001b[0m in \u001b[0;36mget_loc\u001b[0;34m(self, key, method, tolerance)\u001b[0m\n\u001b[1;32m   3361\u001b[0m                 \u001b[0;32mreturn\u001b[0m \u001b[0mself\u001b[0m\u001b[0;34m.\u001b[0m\u001b[0m_engine\u001b[0m\u001b[0;34m.\u001b[0m\u001b[0mget_loc\u001b[0m\u001b[0;34m(\u001b[0m\u001b[0mcasted_key\u001b[0m\u001b[0;34m)\u001b[0m\u001b[0;34m\u001b[0m\u001b[0;34m\u001b[0m\u001b[0m\n\u001b[1;32m   3362\u001b[0m             \u001b[0;32mexcept\u001b[0m \u001b[0mKeyError\u001b[0m \u001b[0;32mas\u001b[0m \u001b[0merr\u001b[0m\u001b[0;34m:\u001b[0m\u001b[0;34m\u001b[0m\u001b[0;34m\u001b[0m\u001b[0m\n\u001b[0;32m-> 3363\u001b[0;31m                 \u001b[0;32mraise\u001b[0m \u001b[0mKeyError\u001b[0m\u001b[0;34m(\u001b[0m\u001b[0mkey\u001b[0m\u001b[0;34m)\u001b[0m \u001b[0;32mfrom\u001b[0m \u001b[0merr\u001b[0m\u001b[0;34m\u001b[0m\u001b[0;34m\u001b[0m\u001b[0m\n\u001b[0m\u001b[1;32m   3364\u001b[0m \u001b[0;34m\u001b[0m\u001b[0m\n\u001b[1;32m   3365\u001b[0m         \u001b[0;32mif\u001b[0m \u001b[0mis_scalar\u001b[0m\u001b[0;34m(\u001b[0m\u001b[0mkey\u001b[0m\u001b[0;34m)\u001b[0m \u001b[0;32mand\u001b[0m \u001b[0misna\u001b[0m\u001b[0;34m(\u001b[0m\u001b[0mkey\u001b[0m\u001b[0;34m)\u001b[0m \u001b[0;32mand\u001b[0m \u001b[0;32mnot\u001b[0m \u001b[0mself\u001b[0m\u001b[0;34m.\u001b[0m\u001b[0mhasnans\u001b[0m\u001b[0;34m:\u001b[0m\u001b[0;34m\u001b[0m\u001b[0;34m\u001b[0m\u001b[0m\n",
            "\u001b[0;31mKeyError\u001b[0m: 'vehicle.make'"
          ]
        }
      ],
      "source": [
        "df['vehicle.make'].value_counts()"
      ]
    },
    {
      "cell_type": "code",
      "execution_count": null,
      "id": "43c36257",
      "metadata": {
        "id": "43c36257"
      },
      "outputs": [],
      "source": []
    },
    {
      "cell_type": "code",
      "execution_count": null,
      "id": "757fdedf",
      "metadata": {
        "id": "757fdedf"
      },
      "outputs": [],
      "source": [
        "df['vehicle.type'].value_counts()"
      ]
    },
    {
      "cell_type": "code",
      "execution_count": null,
      "id": "c73bbbb7",
      "metadata": {
        "scrolled": true,
        "colab": {
          "base_uri": "https://localhost:8080/",
          "height": 516
        },
        "id": "c73bbbb7",
        "outputId": "b23c6812-2f41-4f24-da46-94f3c08127c9"
      },
      "outputs": [
        {
          "output_type": "error",
          "ename": "KeyError",
          "evalue": "ignored",
          "traceback": [
            "\u001b[0;31m---------------------------------------------------------------------------\u001b[0m",
            "\u001b[0;31mKeyError\u001b[0m                                  Traceback (most recent call last)",
            "\u001b[0;32m/usr/local/lib/python3.8/dist-packages/pandas/core/indexes/base.py\u001b[0m in \u001b[0;36mget_loc\u001b[0;34m(self, key, method, tolerance)\u001b[0m\n\u001b[1;32m   3360\u001b[0m             \u001b[0;32mtry\u001b[0m\u001b[0;34m:\u001b[0m\u001b[0;34m\u001b[0m\u001b[0;34m\u001b[0m\u001b[0m\n\u001b[0;32m-> 3361\u001b[0;31m                 \u001b[0;32mreturn\u001b[0m \u001b[0mself\u001b[0m\u001b[0;34m.\u001b[0m\u001b[0m_engine\u001b[0m\u001b[0;34m.\u001b[0m\u001b[0mget_loc\u001b[0m\u001b[0;34m(\u001b[0m\u001b[0mcasted_key\u001b[0m\u001b[0;34m)\u001b[0m\u001b[0;34m\u001b[0m\u001b[0;34m\u001b[0m\u001b[0m\n\u001b[0m\u001b[1;32m   3362\u001b[0m             \u001b[0;32mexcept\u001b[0m \u001b[0mKeyError\u001b[0m \u001b[0;32mas\u001b[0m \u001b[0merr\u001b[0m\u001b[0;34m:\u001b[0m\u001b[0;34m\u001b[0m\u001b[0;34m\u001b[0m\u001b[0m\n",
            "\u001b[0;32m/usr/local/lib/python3.8/dist-packages/pandas/_libs/index.pyx\u001b[0m in \u001b[0;36mpandas._libs.index.IndexEngine.get_loc\u001b[0;34m()\u001b[0m\n",
            "\u001b[0;32m/usr/local/lib/python3.8/dist-packages/pandas/_libs/index.pyx\u001b[0m in \u001b[0;36mpandas._libs.index.IndexEngine.get_loc\u001b[0;34m()\u001b[0m\n",
            "\u001b[0;32mpandas/_libs/hashtable_class_helper.pxi\u001b[0m in \u001b[0;36mpandas._libs.hashtable.PyObjectHashTable.get_item\u001b[0;34m()\u001b[0m\n",
            "\u001b[0;32mpandas/_libs/hashtable_class_helper.pxi\u001b[0m in \u001b[0;36mpandas._libs.hashtable.PyObjectHashTable.get_item\u001b[0;34m()\u001b[0m\n",
            "\u001b[0;31mKeyError\u001b[0m: 'vehicle.type'",
            "\nThe above exception was the direct cause of the following exception:\n",
            "\u001b[0;31mKeyError\u001b[0m                                  Traceback (most recent call last)",
            "\u001b[0;32m<ipython-input-27-87828c29257f>\u001b[0m in \u001b[0;36m<module>\u001b[0;34m\u001b[0m\n\u001b[1;32m      1\u001b[0m \u001b[0mlabels\u001b[0m \u001b[0;34m=\u001b[0m \u001b[0;34m[\u001b[0m\u001b[0;34m'car'\u001b[0m\u001b[0;34m,\u001b[0m \u001b[0;34m'suv'\u001b[0m\u001b[0;34m,\u001b[0m\u001b[0;34m'minivsn'\u001b[0m\u001b[0;34m,\u001b[0m\u001b[0;34m'truck'\u001b[0m\u001b[0;34m,\u001b[0m\u001b[0;34m'van'\u001b[0m\u001b[0;34m]\u001b[0m\u001b[0;34m\u001b[0m\u001b[0;34m\u001b[0m\u001b[0m\n\u001b[0;32m----> 2\u001b[0;31m \u001b[0msize\u001b[0m \u001b[0;34m=\u001b[0m \u001b[0mdf\u001b[0m\u001b[0;34m[\u001b[0m\u001b[0;34m'vehicle.type'\u001b[0m\u001b[0;34m]\u001b[0m\u001b[0;34m.\u001b[0m\u001b[0mvalue_counts\u001b[0m\u001b[0;34m(\u001b[0m\u001b[0;34m)\u001b[0m\u001b[0;34m\u001b[0m\u001b[0;34m\u001b[0m\u001b[0m\n\u001b[0m\u001b[1;32m      3\u001b[0m \u001b[0mexplode\u001b[0m \u001b[0;34m=\u001b[0m \u001b[0;34m[\u001b[0m\u001b[0;36m0\u001b[0m\u001b[0;34m,\u001b[0m\u001b[0;36m0.2\u001b[0m\u001b[0;34m]\u001b[0m\u001b[0;34m\u001b[0m\u001b[0;34m\u001b[0m\u001b[0m\n\u001b[1;32m      4\u001b[0m \u001b[0mcolors\u001b[0m \u001b[0;34m=\u001b[0m \u001b[0;34m[\u001b[0m\u001b[0;34m'Pink'\u001b[0m\u001b[0;34m,\u001b[0m \u001b[0;34m'blue'\u001b[0m\u001b[0;34m,\u001b[0m\u001b[0;34m'red'\u001b[0m\u001b[0;34m,\u001b[0m\u001b[0;34m'yellow'\u001b[0m\u001b[0;34m]\u001b[0m \u001b[0;31m## color Genders\u001b[0m\u001b[0;34m\u001b[0m\u001b[0;34m\u001b[0m\u001b[0m\n\u001b[1;32m      5\u001b[0m \u001b[0;34m\u001b[0m\u001b[0m\n",
            "\u001b[0;32m/usr/local/lib/python3.8/dist-packages/pandas/core/frame.py\u001b[0m in \u001b[0;36m__getitem__\u001b[0;34m(self, key)\u001b[0m\n\u001b[1;32m   3456\u001b[0m             \u001b[0;32mif\u001b[0m \u001b[0mself\u001b[0m\u001b[0;34m.\u001b[0m\u001b[0mcolumns\u001b[0m\u001b[0;34m.\u001b[0m\u001b[0mnlevels\u001b[0m \u001b[0;34m>\u001b[0m \u001b[0;36m1\u001b[0m\u001b[0;34m:\u001b[0m\u001b[0;34m\u001b[0m\u001b[0;34m\u001b[0m\u001b[0m\n\u001b[1;32m   3457\u001b[0m                 \u001b[0;32mreturn\u001b[0m \u001b[0mself\u001b[0m\u001b[0;34m.\u001b[0m\u001b[0m_getitem_multilevel\u001b[0m\u001b[0;34m(\u001b[0m\u001b[0mkey\u001b[0m\u001b[0;34m)\u001b[0m\u001b[0;34m\u001b[0m\u001b[0;34m\u001b[0m\u001b[0m\n\u001b[0;32m-> 3458\u001b[0;31m             \u001b[0mindexer\u001b[0m \u001b[0;34m=\u001b[0m \u001b[0mself\u001b[0m\u001b[0;34m.\u001b[0m\u001b[0mcolumns\u001b[0m\u001b[0;34m.\u001b[0m\u001b[0mget_loc\u001b[0m\u001b[0;34m(\u001b[0m\u001b[0mkey\u001b[0m\u001b[0;34m)\u001b[0m\u001b[0;34m\u001b[0m\u001b[0;34m\u001b[0m\u001b[0m\n\u001b[0m\u001b[1;32m   3459\u001b[0m             \u001b[0;32mif\u001b[0m \u001b[0mis_integer\u001b[0m\u001b[0;34m(\u001b[0m\u001b[0mindexer\u001b[0m\u001b[0;34m)\u001b[0m\u001b[0;34m:\u001b[0m\u001b[0;34m\u001b[0m\u001b[0;34m\u001b[0m\u001b[0m\n\u001b[1;32m   3460\u001b[0m                 \u001b[0mindexer\u001b[0m \u001b[0;34m=\u001b[0m \u001b[0;34m[\u001b[0m\u001b[0mindexer\u001b[0m\u001b[0;34m]\u001b[0m\u001b[0;34m\u001b[0m\u001b[0;34m\u001b[0m\u001b[0m\n",
            "\u001b[0;32m/usr/local/lib/python3.8/dist-packages/pandas/core/indexes/base.py\u001b[0m in \u001b[0;36mget_loc\u001b[0;34m(self, key, method, tolerance)\u001b[0m\n\u001b[1;32m   3361\u001b[0m                 \u001b[0;32mreturn\u001b[0m \u001b[0mself\u001b[0m\u001b[0;34m.\u001b[0m\u001b[0m_engine\u001b[0m\u001b[0;34m.\u001b[0m\u001b[0mget_loc\u001b[0m\u001b[0;34m(\u001b[0m\u001b[0mcasted_key\u001b[0m\u001b[0;34m)\u001b[0m\u001b[0;34m\u001b[0m\u001b[0;34m\u001b[0m\u001b[0m\n\u001b[1;32m   3362\u001b[0m             \u001b[0;32mexcept\u001b[0m \u001b[0mKeyError\u001b[0m \u001b[0;32mas\u001b[0m \u001b[0merr\u001b[0m\u001b[0;34m:\u001b[0m\u001b[0;34m\u001b[0m\u001b[0;34m\u001b[0m\u001b[0m\n\u001b[0;32m-> 3363\u001b[0;31m                 \u001b[0;32mraise\u001b[0m \u001b[0mKeyError\u001b[0m\u001b[0;34m(\u001b[0m\u001b[0mkey\u001b[0m\u001b[0;34m)\u001b[0m \u001b[0;32mfrom\u001b[0m \u001b[0merr\u001b[0m\u001b[0;34m\u001b[0m\u001b[0;34m\u001b[0m\u001b[0m\n\u001b[0m\u001b[1;32m   3364\u001b[0m \u001b[0;34m\u001b[0m\u001b[0m\n\u001b[1;32m   3365\u001b[0m         \u001b[0;32mif\u001b[0m \u001b[0mis_scalar\u001b[0m\u001b[0;34m(\u001b[0m\u001b[0mkey\u001b[0m\u001b[0;34m)\u001b[0m \u001b[0;32mand\u001b[0m \u001b[0misna\u001b[0m\u001b[0;34m(\u001b[0m\u001b[0mkey\u001b[0m\u001b[0;34m)\u001b[0m \u001b[0;32mand\u001b[0m \u001b[0;32mnot\u001b[0m \u001b[0mself\u001b[0m\u001b[0;34m.\u001b[0m\u001b[0mhasnans\u001b[0m\u001b[0;34m:\u001b[0m\u001b[0;34m\u001b[0m\u001b[0;34m\u001b[0m\u001b[0m\n",
            "\u001b[0;31mKeyError\u001b[0m: 'vehicle.type'"
          ]
        }
      ],
      "source": [
        "labels = ['car', 'suv','minivsn','truck','van']\n",
        "size = df['vehicle.type'].value_counts()\n",
        "explode = [0,0.2]\n",
        "colors = ['Pink', 'blue','red','yellow'] ## color Genders\n",
        "\n",
        "plt.rcParams['figure.figsize'] = (7,7)\n",
        "plt.pie(size, labels=labels, autopct='%1.1f%%', shadow=True, colors=colors,startangle = 0)\n",
        "plt.legend(title=\"vehicle.type\",fontsize= 10)\n",
        "plt.show() "
      ]
    },
    {
      "cell_type": "code",
      "execution_count": null,
      "id": "22101d43",
      "metadata": {
        "id": "22101d43"
      },
      "outputs": [],
      "source": [
        "labels=df['fuelType'].value_counts().index\n",
        "values=df['fuelType'].value_counts().values\n",
        "\n",
        "#visualization\n",
        "plt.figure(figsize=(7,7))\n",
        "plt.pie(values ,labels = labels ,autopct='%1.1f%%')\n",
        "plt.title('fuelType')\n",
        "plt.show()\n",
        "plt.savefig('Fuel Type.png', format='png')"
      ]
    },
    {
      "cell_type": "code",
      "execution_count": null,
      "id": "34c5a11f",
      "metadata": {
        "id": "34c5a11f"
      },
      "outputs": [],
      "source": [
        "df['Location'].value_counts()"
      ]
    },
    {
      "cell_type": "code",
      "execution_count": null,
      "id": "70303ab6",
      "metadata": {
        "id": "70303ab6"
      },
      "outputs": [],
      "source": [
        "df[\"fuelType\"].value_counts()"
      ]
    },
    {
      "cell_type": "code",
      "execution_count": null,
      "id": "5e8dd5ff",
      "metadata": {
        "id": "5e8dd5ff"
      },
      "outputs": [],
      "source": [
        "df[\"location.country\"].value_counts()"
      ]
    },
    {
      "cell_type": "code",
      "execution_count": null,
      "id": "75ad5d28",
      "metadata": {
        "id": "75ad5d28"
      },
      "outputs": [],
      "source": [
        "df.drop(\"location.country\", axis=1, inplace=True)"
      ]
    },
    {
      "cell_type": "code",
      "execution_count": null,
      "id": "eb05f77d",
      "metadata": {
        "id": "eb05f77d"
      },
      "outputs": [],
      "source": [
        "# get number of categories value \n",
        "print(\"Number of Categories in: \")\n",
        "for ColName in df[['fuelType','location.city','location.state','vehicle.make','vehicle.model','vehicle.year']]:\n",
        "    print(\"{} = {}\".format(ColName,len(df[ColName].unique())))"
      ]
    },
    {
      "cell_type": "code",
      "execution_count": null,
      "id": "8a7e393f",
      "metadata": {
        "id": "8a7e393f"
      },
      "outputs": [],
      "source": [
        "median=df[\"rating\"].median()\n",
        "df[\"rating\"].fillna(median, inplace=True)"
      ]
    },
    {
      "cell_type": "code",
      "execution_count": null,
      "id": "b86a4e93",
      "metadata": {
        "id": "b86a4e93"
      },
      "outputs": [],
      "source": [
        "df.info()"
      ]
    },
    {
      "cell_type": "code",
      "execution_count": null,
      "id": "0f5c94b2",
      "metadata": {
        "id": "0f5c94b2"
      },
      "outputs": [],
      "source": [
        "dt1 = df.replace(np.nan, 'GASOLINE', regex=True)"
      ]
    },
    {
      "cell_type": "code",
      "execution_count": null,
      "id": "e5e382df",
      "metadata": {
        "id": "e5e382df"
      },
      "outputs": [],
      "source": [
        "dt1 = dt1.rename(columns={'location.latitude': 'latitude', 'location.longitude': 'longitude',\n",
        "                             'rate.daily': 'rate_daily','vehicle.year': 'vehicle_year'})\n",
        "dt1.head()"
      ]
    },
    {
      "cell_type": "code",
      "execution_count": null,
      "id": "f9d2c7ab",
      "metadata": {
        "id": "f9d2c7ab"
      },
      "outputs": [],
      "source": [
        "labels=dt1['vehicle.make'].value_counts().index\n",
        "f, ax = plt.subplots(figsize=(18, 7))\n",
        "sns.countplot(x='vehicle.make', data=dt1,\n",
        "              order = labels,\n",
        "              #hue='vehicle.year'\n",
        "              palette=\"BuGn_r\"\n",
        "           )\n",
        "plt.xticks(rotation= 45,fontsize=7 )\n",
        "ax.set_ylabel('count', fontsize=15, color='b')\n",
        "ax.set_xlabel('make of the vehicle', fontsize=14, color='b')\n",
        "#plt.savefig('make of the vehicle.png', format='png')\n",
        "plt.savefig('myimage.svg', format='svg', dpi=1200)"
      ]
    },
    {
      "cell_type": "code",
      "execution_count": null,
      "id": "81270829",
      "metadata": {
        "id": "81270829"
      },
      "outputs": [],
      "source": [
        "labels=dt1['location.state'].value_counts().index\n",
        "f, ax = plt.subplots(figsize=(18, 7))\n",
        "sns.countplot(x='location.state', data=dt1,\n",
        "              order = labels,\n",
        "              #hue='vehicle.year'\n",
        "              palette=\"Set2\"\n",
        "           )\n",
        "plt.xticks(rotation= 45,fontsize=12 )\n",
        "ax.set_ylabel('Car count', fontsize=15, color='r')\n",
        "ax.set_xlabel('location.state', fontsize=14, color='r')\n",
        "#plt.savefig('make of the vehicle.png', format='png')\n",
        "plt.savefig('Car count per state', format='svg', dpi=1200)"
      ]
    },
    {
      "cell_type": "code",
      "execution_count": null,
      "id": "d984072f",
      "metadata": {
        "id": "d984072f"
      },
      "outputs": [],
      "source": [
        "pip install folium"
      ]
    },
    {
      "cell_type": "markdown",
      "id": "783ed2a5",
      "metadata": {
        "id": "783ed2a5"
      },
      "source": [
        "Plotting the data on a map with Folium"
      ]
    },
    {
      "cell_type": "code",
      "execution_count": null,
      "id": "03145b89",
      "metadata": {
        "id": "03145b89"
      },
      "outputs": [],
      "source": [
        "import folium\n",
        "from folium.plugins import HeatMap\n",
        "center = [35.582889, -99.632773]  #data.describe(mean)\n",
        "m = folium.Map([dt1.latitude.mean(), dt1.longitude.mean()], zoom_start=4,center=center)\n",
        "for index, row in dt1.iterrows():\n",
        "    folium.CircleMarker([row['latitude'], row['longitude']],\n",
        "                        radius=row['renterTripsTaken']/10,\n",
        "                        fill_color=\"#3db7e4\", \n",
        "                       ).add_to(m)\n",
        "    \n",
        "points = dt1[['latitude', 'longitude']].values\n",
        "m.add_children(HeatMap(points, radius=15)) # plot heatmap\n",
        "m.save('map.html')\n",
        "m"
      ]
    },
    {
      "cell_type": "markdown",
      "id": "b3c13ae6",
      "metadata": {
        "id": "b3c13ae6"
      },
      "source": [
        "Histogram of Rental Car Rating"
      ]
    },
    {
      "cell_type": "code",
      "execution_count": null,
      "id": "8ce390ec",
      "metadata": {
        "id": "8ce390ec"
      },
      "outputs": [],
      "source": [
        "f, ax = plt.subplots(figsize=(18, 7))\n",
        "sns.histplot(data=dt1, x=\"rating\", binwidth=.01)\n",
        "ax.set_ylim(0,300)\n",
        "ax.set_xlim(2,5)\n",
        "plt.title('Rental Car Rating')\n",
        "plt.show()\n",
        "plt.savefig('Rental Car Rating.png', format='png')"
      ]
    },
    {
      "cell_type": "markdown",
      "id": "79baf911",
      "metadata": {
        "id": "79baf911"
      },
      "source": [
        "Histogram of vehicle_year"
      ]
    },
    {
      "cell_type": "code",
      "execution_count": null,
      "id": "69e57c59",
      "metadata": {
        "id": "69e57c59"
      },
      "outputs": [],
      "source": [
        "f, ax = plt.subplots(figsize=(18, 7))\n",
        "sns.histplot(data=dt1, x=\"vehicle_year\")\n",
        "ax.set_xlim(1990,2021)\n",
        "plt.title('vehicle year')\n",
        "plt.show()\n",
        "plt.savefig('vehicle year.png', format='png')"
      ]
    },
    {
      "cell_type": "code",
      "execution_count": null,
      "id": "c05561eb",
      "metadata": {
        "id": "c05561eb"
      },
      "outputs": [],
      "source": [
        "pip install plotly_express"
      ]
    },
    {
      "cell_type": "code",
      "execution_count": null,
      "id": "ed574b30",
      "metadata": {
        "id": "ed574b30"
      },
      "outputs": [],
      "source": [
        "import plotly_express as px\n",
        "dt_make_model = dt1.groupby(['vehicle.make', 'vehicle.model']).size().reset_index()\n",
        "dt_make_model.rename(columns = {0:'model_count'}, inplace=True)\n",
        "dt_make_model['make_count'] = dt_make_model['vehicle.make'].apply(\n",
        "    lambda x : dt_make_model[dt_make_model['vehicle.make'] == x]['model_count'].sum())\n",
        "dt_make_model.sort_values(by = 'make_count', ascending=False, inplace=True)\n",
        "fig =px.scatter(dt_make_model[dt_make_model['make_count'] >45],\n",
        "             x = 'vehicle.make', y='model_count', color = 'vehicle.model',width=1100, height=700,\n",
        "                title='Make and Model of Top Most Rented Cars')\n",
        "fig.show()"
      ]
    },
    {
      "cell_type": "code",
      "execution_count": null,
      "id": "b3cdd44f",
      "metadata": {
        "id": "b3cdd44f"
      },
      "outputs": [],
      "source": [
        "from IPython.display import IFrame\n",
        "IFrame('https://datastudio.google.com/embed/reporting/6ddc4bc8-e881-4983-a37f-51e057485122/page/OFP8B', width='100%', height=900)"
      ]
    },
    {
      "cell_type": "code",
      "execution_count": null,
      "id": "429bd64e",
      "metadata": {
        "id": "429bd64e"
      },
      "outputs": [],
      "source": []
    },
    {
      "cell_type": "code",
      "execution_count": null,
      "id": "dfec58d3",
      "metadata": {
        "id": "dfec58d3"
      },
      "outputs": [],
      "source": []
    }
  ],
  "metadata": {
    "kernelspec": {
      "display_name": "Python 3 (ipykernel)",
      "language": "python",
      "name": "python3"
    },
    "language_info": {
      "codemirror_mode": {
        "name": "ipython",
        "version": 3
      },
      "file_extension": ".py",
      "mimetype": "text/x-python",
      "name": "python",
      "nbconvert_exporter": "python",
      "pygments_lexer": "ipython3",
      "version": "3.9.12"
    },
    "colab": {
      "provenance": []
    }
  },
  "nbformat": 4,
  "nbformat_minor": 5
}